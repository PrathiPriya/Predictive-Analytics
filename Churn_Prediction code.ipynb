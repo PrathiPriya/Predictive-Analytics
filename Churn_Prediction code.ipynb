{
 "cells": [
  {
   "cell_type": "code",
   "execution_count": 1,
   "metadata": {},
   "outputs": [],
   "source": [
    "from sklearn.preprocessing import  MinMaxScaler, StandardScaler , RobustScaler, FunctionTransformer\n",
    "from sklearn.pipeline import Pipeline\n",
    "from sklearn.preprocessing import PowerTransformer\n",
    "from sklearn.compose import ColumnTransformer, TransformedTargetRegressor\n",
    "from imblearn.under_sampling import TomekLinks\n",
    "from imblearn.over_sampling import SMOTE\n",
    "from sklearn.model_selection import train_test_split\n",
    "from sklearn.linear_model import LogisticRegression\n",
    "from imblearn.over_sampling import RandomOverSampler\n",
    "from sklearn.model_selection import KFold\n",
    "from sklearn.metrics import classification_report,confusion_matrix\n",
    "from sklearn.neighbors import KNeighborsClassifier\n",
    "import numpy as np \n",
    "import pandas as pd \n",
    "import seaborn as sns\n",
    "import matplotlib.pyplot as plt\n",
    "%matplotlib inline\n",
    "import optuna\n",
    "from xgboost import XGBClassifier\n",
    "from lightgbm import LGBMClassifier\n",
    "from sklearn.ensemble import VotingClassifier\n",
    "import optuna\n",
    "import lightgbm as lgb"
   ]
  },
  {
   "cell_type": "code",
   "execution_count": 2,
   "metadata": {},
   "outputs": [
    {
     "data": {
      "text/html": [
       "<div>\n",
       "<style scoped>\n",
       "    .dataframe tbody tr th:only-of-type {\n",
       "        vertical-align: middle;\n",
       "    }\n",
       "\n",
       "    .dataframe tbody tr th {\n",
       "        vertical-align: top;\n",
       "    }\n",
       "\n",
       "    .dataframe thead th {\n",
       "        text-align: right;\n",
       "    }\n",
       "</style>\n",
       "<table border=\"1\" class=\"dataframe\">\n",
       "  <thead>\n",
       "    <tr style=\"text-align: right;\">\n",
       "      <th></th>\n",
       "      <th>customerID</th>\n",
       "      <th>gender</th>\n",
       "      <th>SeniorCitizen</th>\n",
       "      <th>Partner</th>\n",
       "      <th>Dependents</th>\n",
       "      <th>tenure</th>\n",
       "      <th>PhoneService</th>\n",
       "      <th>MultipleLines</th>\n",
       "      <th>InternetService</th>\n",
       "      <th>OnlineSecurity</th>\n",
       "      <th>...</th>\n",
       "      <th>DeviceProtection</th>\n",
       "      <th>TechSupport</th>\n",
       "      <th>StreamingTV</th>\n",
       "      <th>StreamingMovies</th>\n",
       "      <th>Contract</th>\n",
       "      <th>PaperlessBilling</th>\n",
       "      <th>PaymentMethod</th>\n",
       "      <th>MonthlyCharges</th>\n",
       "      <th>TotalCharges</th>\n",
       "      <th>Churn</th>\n",
       "    </tr>\n",
       "  </thead>\n",
       "  <tbody>\n",
       "    <tr>\n",
       "      <th>0</th>\n",
       "      <td>7590-VHVEG</td>\n",
       "      <td>Female</td>\n",
       "      <td>0</td>\n",
       "      <td>Yes</td>\n",
       "      <td>No</td>\n",
       "      <td>1</td>\n",
       "      <td>No</td>\n",
       "      <td>No phone service</td>\n",
       "      <td>DSL</td>\n",
       "      <td>No</td>\n",
       "      <td>...</td>\n",
       "      <td>No</td>\n",
       "      <td>No</td>\n",
       "      <td>No</td>\n",
       "      <td>No</td>\n",
       "      <td>Month-to-month</td>\n",
       "      <td>Yes</td>\n",
       "      <td>Electronic check</td>\n",
       "      <td>29.85</td>\n",
       "      <td>29.85</td>\n",
       "      <td>No</td>\n",
       "    </tr>\n",
       "    <tr>\n",
       "      <th>1</th>\n",
       "      <td>5575-GNVDE</td>\n",
       "      <td>Male</td>\n",
       "      <td>0</td>\n",
       "      <td>No</td>\n",
       "      <td>No</td>\n",
       "      <td>34</td>\n",
       "      <td>Yes</td>\n",
       "      <td>No</td>\n",
       "      <td>DSL</td>\n",
       "      <td>Yes</td>\n",
       "      <td>...</td>\n",
       "      <td>Yes</td>\n",
       "      <td>No</td>\n",
       "      <td>No</td>\n",
       "      <td>No</td>\n",
       "      <td>One year</td>\n",
       "      <td>No</td>\n",
       "      <td>Mailed check</td>\n",
       "      <td>56.95</td>\n",
       "      <td>1889.5</td>\n",
       "      <td>No</td>\n",
       "    </tr>\n",
       "    <tr>\n",
       "      <th>2</th>\n",
       "      <td>3668-QPYBK</td>\n",
       "      <td>Male</td>\n",
       "      <td>0</td>\n",
       "      <td>No</td>\n",
       "      <td>No</td>\n",
       "      <td>2</td>\n",
       "      <td>Yes</td>\n",
       "      <td>No</td>\n",
       "      <td>DSL</td>\n",
       "      <td>Yes</td>\n",
       "      <td>...</td>\n",
       "      <td>No</td>\n",
       "      <td>No</td>\n",
       "      <td>No</td>\n",
       "      <td>No</td>\n",
       "      <td>Month-to-month</td>\n",
       "      <td>Yes</td>\n",
       "      <td>Mailed check</td>\n",
       "      <td>53.85</td>\n",
       "      <td>108.15</td>\n",
       "      <td>Yes</td>\n",
       "    </tr>\n",
       "    <tr>\n",
       "      <th>3</th>\n",
       "      <td>7795-CFOCW</td>\n",
       "      <td>Male</td>\n",
       "      <td>0</td>\n",
       "      <td>No</td>\n",
       "      <td>No</td>\n",
       "      <td>45</td>\n",
       "      <td>No</td>\n",
       "      <td>No phone service</td>\n",
       "      <td>DSL</td>\n",
       "      <td>Yes</td>\n",
       "      <td>...</td>\n",
       "      <td>Yes</td>\n",
       "      <td>Yes</td>\n",
       "      <td>No</td>\n",
       "      <td>No</td>\n",
       "      <td>One year</td>\n",
       "      <td>No</td>\n",
       "      <td>Bank transfer (automatic)</td>\n",
       "      <td>42.30</td>\n",
       "      <td>1840.75</td>\n",
       "      <td>No</td>\n",
       "    </tr>\n",
       "    <tr>\n",
       "      <th>4</th>\n",
       "      <td>9237-HQITU</td>\n",
       "      <td>Female</td>\n",
       "      <td>0</td>\n",
       "      <td>No</td>\n",
       "      <td>No</td>\n",
       "      <td>2</td>\n",
       "      <td>Yes</td>\n",
       "      <td>No</td>\n",
       "      <td>Fiber optic</td>\n",
       "      <td>No</td>\n",
       "      <td>...</td>\n",
       "      <td>No</td>\n",
       "      <td>No</td>\n",
       "      <td>No</td>\n",
       "      <td>No</td>\n",
       "      <td>Month-to-month</td>\n",
       "      <td>Yes</td>\n",
       "      <td>Electronic check</td>\n",
       "      <td>70.70</td>\n",
       "      <td>151.65</td>\n",
       "      <td>Yes</td>\n",
       "    </tr>\n",
       "    <tr>\n",
       "      <th>5</th>\n",
       "      <td>9305-CDSKC</td>\n",
       "      <td>Female</td>\n",
       "      <td>0</td>\n",
       "      <td>No</td>\n",
       "      <td>No</td>\n",
       "      <td>8</td>\n",
       "      <td>Yes</td>\n",
       "      <td>Yes</td>\n",
       "      <td>Fiber optic</td>\n",
       "      <td>No</td>\n",
       "      <td>...</td>\n",
       "      <td>Yes</td>\n",
       "      <td>No</td>\n",
       "      <td>Yes</td>\n",
       "      <td>Yes</td>\n",
       "      <td>Month-to-month</td>\n",
       "      <td>Yes</td>\n",
       "      <td>Electronic check</td>\n",
       "      <td>99.65</td>\n",
       "      <td>820.5</td>\n",
       "      <td>Yes</td>\n",
       "    </tr>\n",
       "    <tr>\n",
       "      <th>6</th>\n",
       "      <td>1452-KIOVK</td>\n",
       "      <td>Male</td>\n",
       "      <td>0</td>\n",
       "      <td>No</td>\n",
       "      <td>Yes</td>\n",
       "      <td>22</td>\n",
       "      <td>Yes</td>\n",
       "      <td>Yes</td>\n",
       "      <td>Fiber optic</td>\n",
       "      <td>No</td>\n",
       "      <td>...</td>\n",
       "      <td>No</td>\n",
       "      <td>No</td>\n",
       "      <td>Yes</td>\n",
       "      <td>No</td>\n",
       "      <td>Month-to-month</td>\n",
       "      <td>Yes</td>\n",
       "      <td>Credit card (automatic)</td>\n",
       "      <td>89.10</td>\n",
       "      <td>1949.4</td>\n",
       "      <td>No</td>\n",
       "    </tr>\n",
       "    <tr>\n",
       "      <th>7</th>\n",
       "      <td>6713-OKOMC</td>\n",
       "      <td>Female</td>\n",
       "      <td>0</td>\n",
       "      <td>No</td>\n",
       "      <td>No</td>\n",
       "      <td>10</td>\n",
       "      <td>No</td>\n",
       "      <td>No phone service</td>\n",
       "      <td>DSL</td>\n",
       "      <td>Yes</td>\n",
       "      <td>...</td>\n",
       "      <td>No</td>\n",
       "      <td>No</td>\n",
       "      <td>No</td>\n",
       "      <td>No</td>\n",
       "      <td>Month-to-month</td>\n",
       "      <td>No</td>\n",
       "      <td>Mailed check</td>\n",
       "      <td>29.75</td>\n",
       "      <td>301.9</td>\n",
       "      <td>No</td>\n",
       "    </tr>\n",
       "    <tr>\n",
       "      <th>8</th>\n",
       "      <td>7892-POOKP</td>\n",
       "      <td>Female</td>\n",
       "      <td>0</td>\n",
       "      <td>Yes</td>\n",
       "      <td>No</td>\n",
       "      <td>28</td>\n",
       "      <td>Yes</td>\n",
       "      <td>Yes</td>\n",
       "      <td>Fiber optic</td>\n",
       "      <td>No</td>\n",
       "      <td>...</td>\n",
       "      <td>Yes</td>\n",
       "      <td>Yes</td>\n",
       "      <td>Yes</td>\n",
       "      <td>Yes</td>\n",
       "      <td>Month-to-month</td>\n",
       "      <td>Yes</td>\n",
       "      <td>Electronic check</td>\n",
       "      <td>104.80</td>\n",
       "      <td>3046.05</td>\n",
       "      <td>Yes</td>\n",
       "    </tr>\n",
       "    <tr>\n",
       "      <th>9</th>\n",
       "      <td>6388-TABGU</td>\n",
       "      <td>Male</td>\n",
       "      <td>0</td>\n",
       "      <td>No</td>\n",
       "      <td>Yes</td>\n",
       "      <td>62</td>\n",
       "      <td>Yes</td>\n",
       "      <td>No</td>\n",
       "      <td>DSL</td>\n",
       "      <td>Yes</td>\n",
       "      <td>...</td>\n",
       "      <td>No</td>\n",
       "      <td>No</td>\n",
       "      <td>No</td>\n",
       "      <td>No</td>\n",
       "      <td>One year</td>\n",
       "      <td>No</td>\n",
       "      <td>Bank transfer (automatic)</td>\n",
       "      <td>56.15</td>\n",
       "      <td>3487.95</td>\n",
       "      <td>No</td>\n",
       "    </tr>\n",
       "  </tbody>\n",
       "</table>\n",
       "<p>10 rows × 21 columns</p>\n",
       "</div>"
      ],
      "text/plain": [
       "   customerID  gender  SeniorCitizen Partner Dependents  tenure PhoneService  \\\n",
       "0  7590-VHVEG  Female              0     Yes         No       1           No   \n",
       "1  5575-GNVDE    Male              0      No         No      34          Yes   \n",
       "2  3668-QPYBK    Male              0      No         No       2          Yes   \n",
       "3  7795-CFOCW    Male              0      No         No      45           No   \n",
       "4  9237-HQITU  Female              0      No         No       2          Yes   \n",
       "5  9305-CDSKC  Female              0      No         No       8          Yes   \n",
       "6  1452-KIOVK    Male              0      No        Yes      22          Yes   \n",
       "7  6713-OKOMC  Female              0      No         No      10           No   \n",
       "8  7892-POOKP  Female              0     Yes         No      28          Yes   \n",
       "9  6388-TABGU    Male              0      No        Yes      62          Yes   \n",
       "\n",
       "      MultipleLines InternetService OnlineSecurity  ... DeviceProtection  \\\n",
       "0  No phone service             DSL             No  ...               No   \n",
       "1                No             DSL            Yes  ...              Yes   \n",
       "2                No             DSL            Yes  ...               No   \n",
       "3  No phone service             DSL            Yes  ...              Yes   \n",
       "4                No     Fiber optic             No  ...               No   \n",
       "5               Yes     Fiber optic             No  ...              Yes   \n",
       "6               Yes     Fiber optic             No  ...               No   \n",
       "7  No phone service             DSL            Yes  ...               No   \n",
       "8               Yes     Fiber optic             No  ...              Yes   \n",
       "9                No             DSL            Yes  ...               No   \n",
       "\n",
       "  TechSupport StreamingTV StreamingMovies        Contract PaperlessBilling  \\\n",
       "0          No          No              No  Month-to-month              Yes   \n",
       "1          No          No              No        One year               No   \n",
       "2          No          No              No  Month-to-month              Yes   \n",
       "3         Yes          No              No        One year               No   \n",
       "4          No          No              No  Month-to-month              Yes   \n",
       "5          No         Yes             Yes  Month-to-month              Yes   \n",
       "6          No         Yes              No  Month-to-month              Yes   \n",
       "7          No          No              No  Month-to-month               No   \n",
       "8         Yes         Yes             Yes  Month-to-month              Yes   \n",
       "9          No          No              No        One year               No   \n",
       "\n",
       "               PaymentMethod MonthlyCharges  TotalCharges Churn  \n",
       "0           Electronic check          29.85         29.85    No  \n",
       "1               Mailed check          56.95        1889.5    No  \n",
       "2               Mailed check          53.85        108.15   Yes  \n",
       "3  Bank transfer (automatic)          42.30       1840.75    No  \n",
       "4           Electronic check          70.70        151.65   Yes  \n",
       "5           Electronic check          99.65         820.5   Yes  \n",
       "6    Credit card (automatic)          89.10        1949.4    No  \n",
       "7               Mailed check          29.75         301.9    No  \n",
       "8           Electronic check         104.80       3046.05   Yes  \n",
       "9  Bank transfer (automatic)          56.15       3487.95    No  \n",
       "\n",
       "[10 rows x 21 columns]"
      ]
     },
     "execution_count": 2,
     "metadata": {},
     "output_type": "execute_result"
    }
   ],
   "source": [
    "df = pd.read_csv(\"Telco-Customer-Churn.csv\")\n",
    "df.head(10)"
   ]
  },
  {
   "cell_type": "code",
   "execution_count": 3,
   "metadata": {},
   "outputs": [
    {
     "name": "stdout",
     "output_type": "stream",
     "text": [
      "<class 'pandas.core.frame.DataFrame'>\n",
      "RangeIndex: 7043 entries, 0 to 7042\n",
      "Data columns (total 21 columns):\n",
      " #   Column            Non-Null Count  Dtype  \n",
      "---  ------            --------------  -----  \n",
      " 0   customerID        7043 non-null   object \n",
      " 1   gender            7043 non-null   object \n",
      " 2   SeniorCitizen     7043 non-null   int64  \n",
      " 3   Partner           7043 non-null   object \n",
      " 4   Dependents        7043 non-null   object \n",
      " 5   tenure            7043 non-null   int64  \n",
      " 6   PhoneService      7043 non-null   object \n",
      " 7   MultipleLines     7043 non-null   object \n",
      " 8   InternetService   7043 non-null   object \n",
      " 9   OnlineSecurity    7043 non-null   object \n",
      " 10  OnlineBackup      7043 non-null   object \n",
      " 11  DeviceProtection  7043 non-null   object \n",
      " 12  TechSupport       7043 non-null   object \n",
      " 13  StreamingTV       7043 non-null   object \n",
      " 14  StreamingMovies   7043 non-null   object \n",
      " 15  Contract          7043 non-null   object \n",
      " 16  PaperlessBilling  7043 non-null   object \n",
      " 17  PaymentMethod     7043 non-null   object \n",
      " 18  MonthlyCharges    7043 non-null   float64\n",
      " 19  TotalCharges      7043 non-null   object \n",
      " 20  Churn             7043 non-null   object \n",
      "dtypes: float64(1), int64(2), object(18)\n",
      "memory usage: 1.1+ MB\n"
     ]
    }
   ],
   "source": [
    "df.info()"
   ]
  },
  {
   "cell_type": "code",
   "execution_count": 4,
   "metadata": {},
   "outputs": [
    {
     "data": {
      "text/html": [
       "<div>\n",
       "<style scoped>\n",
       "    .dataframe tbody tr th:only-of-type {\n",
       "        vertical-align: middle;\n",
       "    }\n",
       "\n",
       "    .dataframe tbody tr th {\n",
       "        vertical-align: top;\n",
       "    }\n",
       "\n",
       "    .dataframe thead th {\n",
       "        text-align: right;\n",
       "    }\n",
       "</style>\n",
       "<table border=\"1\" class=\"dataframe\">\n",
       "  <thead>\n",
       "    <tr style=\"text-align: right;\">\n",
       "      <th></th>\n",
       "      <th>SeniorCitizen</th>\n",
       "      <th>tenure</th>\n",
       "      <th>MonthlyCharges</th>\n",
       "    </tr>\n",
       "  </thead>\n",
       "  <tbody>\n",
       "    <tr>\n",
       "      <th>count</th>\n",
       "      <td>7043.000000</td>\n",
       "      <td>7043.000000</td>\n",
       "      <td>7043.000000</td>\n",
       "    </tr>\n",
       "    <tr>\n",
       "      <th>mean</th>\n",
       "      <td>0.162147</td>\n",
       "      <td>32.371149</td>\n",
       "      <td>64.761692</td>\n",
       "    </tr>\n",
       "    <tr>\n",
       "      <th>std</th>\n",
       "      <td>0.368612</td>\n",
       "      <td>24.559481</td>\n",
       "      <td>30.090047</td>\n",
       "    </tr>\n",
       "    <tr>\n",
       "      <th>min</th>\n",
       "      <td>0.000000</td>\n",
       "      <td>0.000000</td>\n",
       "      <td>18.250000</td>\n",
       "    </tr>\n",
       "    <tr>\n",
       "      <th>25%</th>\n",
       "      <td>0.000000</td>\n",
       "      <td>9.000000</td>\n",
       "      <td>35.500000</td>\n",
       "    </tr>\n",
       "    <tr>\n",
       "      <th>50%</th>\n",
       "      <td>0.000000</td>\n",
       "      <td>29.000000</td>\n",
       "      <td>70.350000</td>\n",
       "    </tr>\n",
       "    <tr>\n",
       "      <th>75%</th>\n",
       "      <td>0.000000</td>\n",
       "      <td>55.000000</td>\n",
       "      <td>89.850000</td>\n",
       "    </tr>\n",
       "    <tr>\n",
       "      <th>max</th>\n",
       "      <td>1.000000</td>\n",
       "      <td>72.000000</td>\n",
       "      <td>118.750000</td>\n",
       "    </tr>\n",
       "  </tbody>\n",
       "</table>\n",
       "</div>"
      ],
      "text/plain": [
       "       SeniorCitizen       tenure  MonthlyCharges\n",
       "count    7043.000000  7043.000000     7043.000000\n",
       "mean        0.162147    32.371149       64.761692\n",
       "std         0.368612    24.559481       30.090047\n",
       "min         0.000000     0.000000       18.250000\n",
       "25%         0.000000     9.000000       35.500000\n",
       "50%         0.000000    29.000000       70.350000\n",
       "75%         0.000000    55.000000       89.850000\n",
       "max         1.000000    72.000000      118.750000"
      ]
     },
     "execution_count": 4,
     "metadata": {},
     "output_type": "execute_result"
    }
   ],
   "source": [
    "df.describe()"
   ]
  },
  {
   "cell_type": "code",
   "execution_count": 5,
   "metadata": {},
   "outputs": [
    {
     "data": {
      "text/plain": [
       "gender                 2\n",
       "SeniorCitizen          2\n",
       "Partner                2\n",
       "Dependents             2\n",
       "tenure                73\n",
       "PhoneService           2\n",
       "MultipleLines          3\n",
       "InternetService        3\n",
       "OnlineSecurity         3\n",
       "OnlineBackup           3\n",
       "DeviceProtection       3\n",
       "TechSupport            3\n",
       "StreamingTV            3\n",
       "StreamingMovies        3\n",
       "Contract               3\n",
       "PaperlessBilling       2\n",
       "PaymentMethod          4\n",
       "MonthlyCharges      1585\n",
       "TotalCharges        6531\n",
       "dtype: int64"
      ]
     },
     "execution_count": 5,
     "metadata": {},
     "output_type": "execute_result"
    }
   ],
   "source": [
    "df.drop(['customerID','Churn',],axis=1).nunique()"
   ]
  },
  {
   "cell_type": "code",
   "execution_count": 6,
   "metadata": {},
   "outputs": [],
   "source": [
    "df = df.drop('customerID',axis=1)"
   ]
  },
  {
   "cell_type": "code",
   "execution_count": 7,
   "metadata": {},
   "outputs": [],
   "source": [
    "df['TotalCharges'] = pd.to_numeric(df['TotalCharges'], errors='coerce')\n",
    "df['TotalCharges'] = df['TotalCharges'].fillna(0)"
   ]
  },
  {
   "cell_type": "code",
   "execution_count": 8,
   "metadata": {},
   "outputs": [
    {
     "data": {
      "text/plain": [
       "Index(['gender', 'Partner', 'Dependents', 'PhoneService', 'MultipleLines',\n",
       "       'InternetService', 'OnlineSecurity', 'OnlineBackup', 'DeviceProtection',\n",
       "       'TechSupport', 'StreamingTV', 'StreamingMovies', 'Contract',\n",
       "       'PaperlessBilling', 'PaymentMethod'],\n",
       "      dtype='object')"
      ]
     },
     "execution_count": 8,
     "metadata": {},
     "output_type": "execute_result"
    }
   ],
   "source": [
    "cols_to_dummies = df.drop('Churn',axis=1).select_dtypes('object').columns\n",
    "cols_to_dummies"
   ]
  },
  {
   "cell_type": "code",
   "execution_count": 9,
   "metadata": {},
   "outputs": [],
   "source": [
    "df = pd.get_dummies(data=df,columns=cols_to_dummies, drop_first=True,dtype=int)"
   ]
  },
  {
   "cell_type": "code",
   "execution_count": 10,
   "metadata": {},
   "outputs": [
    {
     "name": "stdout",
     "output_type": "stream",
     "text": [
      "Skewness:\n",
      " SeniorCitizen                            1.833242\n",
      "tenure                                   0.239489\n",
      "MonthlyCharges                          -0.220477\n",
      "TotalCharges                             0.963029\n",
      "gender_Male                             -0.019027\n",
      "Partner_Yes                              0.067908\n",
      "Dependents_Yes                           0.875012\n",
      "PhoneService_Yes                        -2.726572\n",
      "MultipleLines_No phone service           2.726572\n",
      "MultipleLines_Yes                        0.316543\n",
      "InternetService_Fiber optic              0.243442\n",
      "InternetService_No                       1.375476\n",
      "OnlineSecurity_No internet service       1.375476\n",
      "OnlineSecurity_Yes                       0.943521\n",
      "OnlineBackup_No internet service         1.375476\n",
      "OnlineBackup_Yes                         0.652678\n",
      "DeviceProtection_No internet service     1.375476\n",
      "DeviceProtection_Yes                     0.657310\n",
      "TechSupport_No internet service          1.375476\n",
      "TechSupport_Yes                          0.924433\n",
      "StreamingTV_No internet service          1.375476\n",
      "StreamingTV_Yes                          0.475480\n",
      "StreamingMovies_No internet service      1.375476\n",
      "StreamingMovies_Yes                      0.460101\n",
      "Contract_One year                        1.430332\n",
      "Contract_Two year                        1.213303\n",
      "PaperlessBilling_Yes                    -0.375316\n",
      "PaymentMethod_Credit card (automatic)    1.379543\n",
      "PaymentMethod_Electronic check           0.695392\n",
      "PaymentMethod_Mailed check               1.290706\n",
      "dtype: float64\n",
      "Kurtosis:\n",
      " SeniorCitizen                            1.360777\n",
      "tenure                                  -1.387239\n",
      "MonthlyCharges                          -1.257219\n",
      "TotalCharges                            -0.229269\n",
      "gender_Male                             -1.999638\n",
      "Partner_Yes                             -1.995389\n",
      "Dependents_Yes                          -1.234354\n",
      "PhoneService_Yes                         5.434195\n",
      "MultipleLines_No phone service           5.434195\n",
      "MultipleLines_Yes                       -1.899801\n",
      "InternetService_Fiber optic             -1.940736\n",
      "InternetService_No                      -0.108066\n",
      "OnlineSecurity_No internet service      -0.108066\n",
      "OnlineSecurity_Yes                      -1.109768\n",
      "OnlineBackup_No internet service        -0.108066\n",
      "OnlineBackup_Yes                        -1.574012\n",
      "DeviceProtection_No internet service    -0.108066\n",
      "DeviceProtection_Yes                    -1.567944\n",
      "TechSupport_No internet service         -0.108066\n",
      "TechSupport_Yes                         -1.145424\n",
      "StreamingTV_No internet service         -0.108066\n",
      "StreamingTV_Yes                         -1.773919\n",
      "StreamingMovies_No internet service     -0.108066\n",
      "StreamingMovies_Yes                     -1.788307\n",
      "Contract_One year                        0.045851\n",
      "Contract_Two year                       -0.527897\n",
      "PaperlessBilling_Yes                    -1.859138\n",
      "PaymentMethod_Credit card (automatic)   -0.096861\n",
      "PaymentMethod_Electronic check          -1.516429\n",
      "PaymentMethod_Mailed check              -0.334079\n",
      "dtype: float64\n"
     ]
    }
   ],
   "source": [
    "from scipy.stats import skew, kurtosis\n",
    "\n",
    "numeric_cols = df.select_dtypes(include=['float', 'int']).columns\n",
    "non_numeric_cols = df.select_dtypes(exclude=['float', 'int']).columns\n",
    "num_df = df[numeric_cols]\n",
    "\n",
    "\n",
    "skewness = num_df.apply(skew)\n",
    "kurt = num_df.apply(kurtosis)\n",
    "\n",
    "print(\"Skewness:\\n\",skewness)\n",
    "print(\"Kurtosis:\\n\",kurt)"
   ]
  },
  {
   "cell_type": "code",
   "execution_count": 11,
   "metadata": {},
   "outputs": [
    {
     "data": {
      "text/plain": [
       "<AxesSubplot:>"
      ]
     },
     "execution_count": 11,
     "metadata": {},
     "output_type": "execute_result"
    },
    {
     "data": {
      "image/png": "[encoded data removed]",
      "text/plain": [
       "<Figure size 1872x1728 with 2 Axes>"
      ]
     },
     "metadata": {
      "needs_background": "light"
     },
     "output_type": "display_data"
    }
   ],
   "source": [
    "plt.figure(figsize=(26,24))\n",
    "sns.heatmap(df.select_dtypes(['int64','float64']).corr(),annot=True) "
   ]
  },
  {
   "cell_type": "code",
   "execution_count": 12,
   "metadata": {},
   "outputs": [],
   "source": [
    "from imblearn.under_sampling import TomekLinks"
   ]
  },
  {
   "cell_type": "code",
   "execution_count": 13,
   "metadata": {},
   "outputs": [],
   "source": [
    "from sklearn.compose import ColumnTransformer\n",
    "from sklearn.pipeline import Pipeline\n",
    "from sklearn.preprocessing import FunctionTransformer, StandardScaler, MinMaxScaler\n",
    "\n",
    "def log_transform(X):\n",
    "    return np.log1p(X)\n",
    "\n",
    "pipeline = Pipeline([\n",
    "    ('minmax_scale', MinMaxScaler()),\n",
    "    ('log_transform', FunctionTransformer(log_transform))\n",
    "])"
   ]
  },
  {
   "cell_type": "code",
   "execution_count": 14,
   "metadata": {},
   "outputs": [],
   "source": [
    "def tomek_links (X,y) : \n",
    "    \n",
    "    tl = TomekLinks(sampling_strategy='auto')\n",
    "\n",
    "    X_resampled, y_resampled = tl.fit_resample(X, y)\n",
    "    \n",
    "    smote = SMOTE(sampling_strategy='auto', random_state=42)\n",
    "    X_resampled, y_resampled = smote.fit_resample(X_resampled, y_resampled)\n",
    "    \n",
    "    return X_resampled , y_resampled"
   ]
  },
  {
   "cell_type": "code",
   "execution_count": 15,
   "metadata": {},
   "outputs": [
    {
     "name": "stdout",
     "output_type": "stream",
     "text": [
      "Before TOMEK Shape= 4930\n",
      "No     3635\n",
      "Yes    1295\n",
      "Name: Churn, dtype: int64\n"
     ]
    }
   ],
   "source": [
    "from sklearn.model_selection import train_test_split\n",
    "X = df.drop('Churn',axis=1)\n",
    "y = df['Churn']\n",
    "X_train, X_test, y_train, y_test = train_test_split(X, y, test_size=0.3, random_state=42)\n",
    "print('Before TOMEK Shape=',len(X_train))\n",
    "print(y_train.value_counts())"
   ]
  },
  {
   "cell_type": "code",
   "execution_count": 16,
   "metadata": {},
   "outputs": [],
   "source": [
    "X_train, y_train = tomek_links (X,y)"
   ]
  },
  {
   "cell_type": "code",
   "execution_count": 17,
   "metadata": {},
   "outputs": [],
   "source": [
    "map_ = {'Yes':1,'No':0}\n",
    "y_train = y_train.map(map_)\n",
    "y_test = y_test.map(map_)"
   ]
  },
  {
   "cell_type": "code",
   "execution_count": 18,
   "metadata": {},
   "outputs": [
    {
     "name": "stdout",
     "output_type": "stream",
     "text": [
      "After TOMEK Shape= 9206\n"
     ]
    },
    {
     "data": {
      "text/plain": [
       "0    4603\n",
       "1    4603\n",
       "Name: Churn, dtype: int64"
      ]
     },
     "execution_count": 18,
     "metadata": {},
     "output_type": "execute_result"
    }
   ],
   "source": [
    "print('After TOMEK Shape=',len(X_train))\n",
    "y_train.value_counts()"
   ]
  },
  {
   "cell_type": "code",
   "execution_count": 19,
   "metadata": {},
   "outputs": [],
   "source": [
    "X_train_log = pipeline.fit_transform(X_train)\n",
    "X_test_log = pipeline.transform(X_test)"
   ]
  },
  {
   "cell_type": "code",
   "execution_count": 20,
   "metadata": {},
   "outputs": [
    {
     "data": {
      "text/plain": [
       "array([[0.        , 0.01379332, 0.1092336 , ..., 0.        , 0.69314718,\n",
       "        0.        ],\n",
       "       [0.        , 0.38677298, 0.32575402, ..., 0.        , 0.        ,\n",
       "        0.69314718],\n",
       "       [0.        , 0.02739897, 0.30323218, ..., 0.        , 0.        ,\n",
       "        0.69314718],\n",
       "       ...,\n",
       "       [0.        , 0.01379332, 0.50683809, ..., 0.        , 0.69314718,\n",
       "        0.        ],\n",
       "       [0.        , 0.189242  , 0.5802436 , ..., 0.        , 0.69314718,\n",
       "        0.        ],\n",
       "       [0.        , 0.01379332, 0.41536385, ..., 0.        , 0.        ,\n",
       "        0.69314718]])"
      ]
     },
     "execution_count": 20,
     "metadata": {},
     "output_type": "execute_result"
    }
   ],
   "source": [
    "X_train_log"
   ]
  },
  {
   "cell_type": "code",
   "execution_count": 21,
   "metadata": {},
   "outputs": [
    {
     "name": "stdout",
     "output_type": "stream",
     "text": [
      "log_r roc_auc(log):  0.8487920342862575\n"
     ]
    }
   ],
   "source": [
    "from sklearn.linear_model import LogisticRegression\n",
    "from sklearn.metrics import accuracy_score,roc_auc_score\n",
    "\n",
    "logmodel = LogisticRegression(solver='lbfgs', max_iter=1000)\n",
    "logmodel.fit(X_train_log, y_train)\n",
    "predictions_log = logmodel.predict_proba(X_test_log)[:,1]\n",
    "roc_auc = roc_auc_score(y_test,predictions_log)\n",
    "print('log_r roc_auc(log): ',roc_auc)"
   ]
  },
  {
   "cell_type": "code",
   "execution_count": 22,
   "metadata": {},
   "outputs": [
    {
     "name": "stdout",
     "output_type": "stream",
     "text": [
      "Cross-validation ROC AUC scores: [0.92202863 0.92447399 0.91847001 0.91867651 0.9233998 ]\n"
     ]
    }
   ],
   "source": [
    "from sklearn.model_selection import cross_val_score, KFold\n",
    "kfold = KFold(n_splits=5, shuffle=True, random_state=42)\n",
    "cv_scores = cross_val_score(logmodel, X_train_log, y_train, cv=kfold, scoring='roc_auc')\n",
    "print(\"Cross-validation ROC AUC scores:\", cv_scores)"
   ]
  },
  {
   "cell_type": "code",
   "execution_count": 23,
   "metadata": {},
   "outputs": [],
   "source": [
    "from lightgbm import LGBMClassifier"
   ]
  },
  {
   "cell_type": "code",
   "execution_count": 24,
   "metadata": {},
   "outputs": [
    {
     "name": "stdout",
     "output_type": "stream",
     "text": [
      "lgbm roc_auc:  0.9874120712802784\n"
     ]
    }
   ],
   "source": [
    "lgbm_params_1 = {'n_estimators': 661, 'max_depth': 240, 'learning_rate': 0.05494948704979913, \n",
    "                 'reg_alpha': 0.005325802880645769, 'reg_lambda': 0.25928395623872597, \n",
    "                 'min_child_weight': 0.7581321965742767, 'min_child_samples': 17,\n",
    "                 'subsample': 0.7232041763778796, 'subsample_freq': 1, \n",
    "                 'colsample_bytree': 0.4521807761795655, 'num_leaves': 204,\"verbosity\":-1}\n",
    "\n",
    "lgbm_classifier_1 = LGBMClassifier(**lgbm_params_1, random_state=42,)\n",
    "lgbm_classifier_1.fit(X_train_log,y_train)\n",
    "predictions_lgbm_1 = lgbm_classifier_1.predict_proba(X_test_log)[:, 1]\n",
    "roc_auc = roc_auc_score(y_test,predictions_lgbm_1)\n",
    "print('lgbm roc_auc: ',roc_auc) "
   ]
  },
  {
   "cell_type": "code",
   "execution_count": 25,
   "metadata": {},
   "outputs": [
    {
     "name": "stdout",
     "output_type": "stream",
     "text": [
      "Input Data Columns: Index(['SeniorCitizen', 'tenure', 'MonthlyCharges', 'TotalCharges', 'Churn',\n",
      "       'gender_Male', 'Partner_Yes', 'Dependents_Yes', 'PhoneService_Yes',\n",
      "       'MultipleLines_No phone service', 'MultipleLines_Yes',\n",
      "       'InternetService_Fiber optic', 'InternetService_No',\n",
      "       'OnlineSecurity_No internet service', 'OnlineSecurity_Yes',\n",
      "       'OnlineBackup_No internet service', 'OnlineBackup_Yes',\n",
      "       'DeviceProtection_No internet service', 'DeviceProtection_Yes',\n",
      "       'TechSupport_No internet service', 'TechSupport_Yes',\n",
      "       'StreamingTV_No internet service', 'StreamingTV_Yes',\n",
      "       'StreamingMovies_No internet service', 'StreamingMovies_Yes',\n",
      "       'Contract_One year', 'Contract_Two year', 'PaperlessBilling_Yes',\n",
      "       'PaymentMethod_Credit card (automatic)',\n",
      "       'PaymentMethod_Electronic check', 'PaymentMethod_Mailed check'],\n",
      "      dtype='object')\n",
      "Training Data Columns: Index(['SeniorCitizen', 'tenure', 'MonthlyCharges', 'TotalCharges',\n",
      "       'gender_Male', 'Partner_Yes', 'Dependents_Yes', 'PhoneService_Yes',\n",
      "       'MultipleLines_No phone service', 'MultipleLines_Yes',\n",
      "       'InternetService_Fiber optic', 'InternetService_No',\n",
      "       'OnlineSecurity_No internet service', 'OnlineSecurity_Yes',\n",
      "       'OnlineBackup_No internet service', 'OnlineBackup_Yes',\n",
      "       'DeviceProtection_No internet service', 'DeviceProtection_Yes',\n",
      "       'TechSupport_No internet service', 'TechSupport_Yes',\n",
      "       'StreamingTV_No internet service', 'StreamingTV_Yes',\n",
      "       'StreamingMovies_No internet service', 'StreamingMovies_Yes',\n",
      "       'Contract_One year', 'Contract_Two year', 'PaperlessBilling_Yes',\n",
      "       'PaymentMethod_Credit card (automatic)',\n",
      "       'PaymentMethod_Electronic check', 'PaymentMethod_Mailed check'],\n",
      "      dtype='object')\n"
     ]
    }
   ],
   "source": [
    "# Check column names of input data\n",
    "print(\"Input Data Columns:\", df.columns)\n",
    "\n",
    "# Check column names of training data\n",
    "print(\"Training Data Columns:\", X_train.columns)\n"
   ]
  },
  {
   "cell_type": "code",
   "execution_count": 26,
   "metadata": {},
   "outputs": [
    {
     "name": "stdout",
     "output_type": "stream",
     "text": [
      "Cross-validation ROC AUC scores: [0.93644276 0.93088708 0.93035598 0.92540043 0.93534318]\n"
     ]
    }
   ],
   "source": [
    "from sklearn.model_selection import cross_val_score, KFold\n",
    "kfold = KFold(n_splits=5, shuffle=True, random_state=42)\n",
    "cv_scores = cross_val_score(lgbm_classifier_1, X_train_log, y_train, cv=kfold, scoring='roc_auc')\n",
    "print(\"Cross-validation ROC AUC scores:\", cv_scores)"
   ]
  },
  {
   "cell_type": "code",
   "execution_count": 27,
   "metadata": {},
   "outputs": [
    {
     "data": {
      "text/plain": [
       "No     5174\n",
       "Yes    1869\n",
       "Name: Churn, dtype: int64"
      ]
     },
     "execution_count": 27,
     "metadata": {},
     "output_type": "execute_result"
    }
   ],
   "source": [
    "df[\"Churn\"].value_counts()"
   ]
  },
  {
   "cell_type": "code",
   "execution_count": 28,
   "metadata": {},
   "outputs": [
    {
     "name": "stdout",
     "output_type": "stream",
     "text": [
      "Classification Report:\n",
      "              precision    recall  f1-score   support\n",
      "\n",
      "           0       0.99      0.96      0.98      1539\n",
      "           1       0.91      0.98      0.94       574\n",
      "\n",
      "    accuracy                           0.97      2113\n",
      "   macro avg       0.95      0.97      0.96      2113\n",
      "weighted avg       0.97      0.97      0.97      2113\n",
      "\n"
     ]
    }
   ],
   "source": [
    "predictions_lgbm_ = (predictions_lgbm_1 > 0.7).astype(int)\n",
    "class_report_lgbm = classification_report(y_test, predictions_lgbm_)\n",
    "print(\"Classification Report:\")\n",
    "print(class_report_lgbm)"
   ]
  },
  {
   "cell_type": "code",
   "execution_count": 29,
   "metadata": {},
   "outputs": [
    {
     "name": "stdout",
     "output_type": "stream",
     "text": [
      "Cross-validation ROC AUC scores: [0.93644276 0.93088708 0.93035598 0.92540043 0.93534318]\n"
     ]
    }
   ],
   "source": [
    "from sklearn.model_selection import cross_val_score, KFold\n",
    "kfold = KFold(n_splits=5, shuffle=True, random_state=42)\n",
    "cv_scores = cross_val_score(lgbm_classifier_1, X_train_log, y_train, cv=kfold, scoring='roc_auc')\n",
    "print(\"Cross-validation ROC AUC scores:\", cv_scores)"
   ]
  },
  {
   "cell_type": "code",
   "execution_count": 30,
   "metadata": {},
   "outputs": [
    {
     "data": {
      "text/plain": [
       "<AxesSubplot:xlabel='Importance', ylabel='Feature'>"
      ]
     },
     "execution_count": 30,
     "metadata": {},
     "output_type": "execute_result"
    },
    {
     "data": {
      "image/png": "[encoded data removed]",
      "text/plain": [
       "<Figure size 432x576 with 1 Axes>"
      ]
     },
     "metadata": {
      "needs_background": "light"
     },
     "output_type": "display_data"
    }
   ],
   "source": [
    "columns_pca = X_train.columns\n",
    "\n",
    "feature_importance = lgbm_classifier_1.feature_importances_\n",
    "feature_importance_df = pd.DataFrame({\n",
    "   'Feature': columns_pca,  \n",
    "    'Importance': feature_importance\n",
    "})\n",
    "\n",
    "feature_importance_df = feature_importance_df.sort_values(by='Importance', ascending=False)\n",
    "plt.figure(figsize=(6, 8))\n",
    "sns.barplot(y=feature_importance_df['Feature'],x=feature_importance_df['Importance'],data=feature_importance_df)"
   ]
  },
  {
   "cell_type": "code",
   "execution_count": 31,
   "metadata": {},
   "outputs": [
    {
     "name": "stdout",
     "output_type": "stream",
     "text": [
      "xgb roc_auc:  0.9874120712802784\n"
     ]
    }
   ],
   "source": [
    "xgb_params_1 = {'n_estimators': 710, 'max_depth': 196, 'min_child_weight': 6.701183051451496, \n",
    "                'learning_rate': 0.026676087502806502, 'subsample': 0.8495695973697881, \n",
    "                'gamma': 0.6152593330262623, 'colsample_bytree': 0.38222797489425975, \n",
    "                'colsample_bylevel': 0.357244623613023, 'colsample_bynode': 0.792490975286392, \n",
    "                'reg_alpha': 0.5812620866048983, 'reg_lambda': 0.37030134449615004, \n",
    "                'scale_pos_weight': 0.6040507737125296, 'max_delta_step': 16.87096589724198, \n",
    "                'min_split_loss': 0.5400536255411681, 'lambda': 0.44693587004990476, \n",
    "                'alpha': 0.019312448258408388}\n",
    "xgb_classifier_1 = XGBClassifier(**xgb_params_1,random_state=42)\n",
    "xgb_classifier_1.fit(X_train_log,y_train)\n",
    "predictions_xgb = xgb_classifier_1.predict_proba(X_test_log)[:,1]\n",
    "roc_auc = roc_auc_score(y_test,predictions_lgbm_1)\n",
    "print('xgb roc_auc: ',roc_auc) "
   ]
  },
  {
   "cell_type": "code",
   "execution_count": 32,
   "metadata": {},
   "outputs": [
    {
     "name": "stdout",
     "output_type": "stream",
     "text": [
      "Classification Report:\n",
      "              precision    recall  f1-score   support\n",
      "\n",
      "           0       0.81      0.96      0.88      1539\n",
      "           1       0.77      0.40      0.52       574\n",
      "\n",
      "    accuracy                           0.80      2113\n",
      "   macro avg       0.79      0.68      0.70      2113\n",
      "weighted avg       0.80      0.80      0.78      2113\n",
      "\n"
     ]
    }
   ],
   "source": [
    "predictions_xgb_ = (predictions_xgb > 0.7).astype(int)\n",
    "class_report_xgb = classification_report(y_test, predictions_xgb_)\n",
    "print(\"Classification Report:\")\n",
    "print(class_report_xgb)"
   ]
  },
  {
   "cell_type": "code",
   "execution_count": 33,
   "metadata": {},
   "outputs": [
    {
     "name": "stdout",
     "output_type": "stream",
     "text": [
      "Cross-validation ROC AUC scores: [0.93644276 0.93088708 0.93035598 0.92540043 0.93534318]\n"
     ]
    }
   ],
   "source": [
    "cv_scores = cross_val_score(lgbm_classifier_1, X_train_log, y_train, cv=kfold, scoring='roc_auc')\n",
    "print(\"Cross-validation ROC AUC scores:\", cv_scores)"
   ]
  },
  {
   "cell_type": "code",
   "execution_count": 34,
   "metadata": {},
   "outputs": [
    {
     "data": {
      "text/plain": [
       "<AxesSubplot:xlabel='Importance', ylabel='Feature'>"
      ]
     },
     "execution_count": 34,
     "metadata": {},
     "output_type": "execute_result"
    },
    {
     "data": {
      "image/png": "[encoded data removed]",
      "text/plain": [
       "<Figure size 432x576 with 1 Axes>"
      ]
     },
     "metadata": {
      "needs_background": "light"
     },
     "output_type": "display_data"
    }
   ],
   "source": [
    "columns_pca = X_train.columns\n",
    "\n",
    "feature_importance = xgb_classifier_1.feature_importances_\n",
    "feature_importance_df = pd.DataFrame({\n",
    "   'Feature': columns_pca,  \n",
    "    'Importance': feature_importance\n",
    "})\n",
    "\n",
    "feature_importance_df = feature_importance_df.sort_values(by='Importance', ascending=False)\n",
    "plt.figure(figsize=(6, 8))\n",
    "sns.barplot(y=feature_importance_df['Feature'],x=feature_importance_df['Importance'],data=feature_importance_df)"
   ]
  },
  {
   "cell_type": "code",
   "execution_count": 35,
   "metadata": {},
   "outputs": [
    {
     "name": "stdout",
     "output_type": "stream",
     "text": [
      "catb roc_auc:  0.8597368534253429\n"
     ]
    }
   ],
   "source": [
    "from catboost import CatBoostClassifier\n",
    "cat_boost_params_1 = {'iterations': 189, 'depth': 6, 'learning_rate': 0.03120170252537937, \n",
    "                      'l2_leaf_reg': 7.354377590658675, 'border_count': 147, 'bagging_temperature': 0.9939238676926005,\n",
    "                      'random_strength': 0.7519139939927411,\n",
    "                      'scale_pos_weight': 89.38778661423312, 'min_data_in_leaf': 20, 'grow_policy': 'Lossguide'}\n",
    "\n",
    "catb_classifier_1 = CatBoostClassifier(**cat_boost_params_1 , random_state=42, logging_level='Silent')\n",
    "catb_classifier_1.fit(X_train_log, y_train)\n",
    "predictions_catb = catb_classifier_1.predict_proba(X_test_log)[:,1]\n",
    "roc_auc = roc_auc_score(y_test,predictions_catb)\n",
    "print('catb roc_auc: ',roc_auc) "
   ]
  },
  {
   "cell_type": "code",
   "execution_count": 36,
   "metadata": {},
   "outputs": [
    {
     "name": "stdout",
     "output_type": "stream",
     "text": [
      "Classification Report:\n",
      "              precision    recall  f1-score   support\n",
      "\n",
      "           0       0.96      0.52      0.67      1539\n",
      "           1       0.42      0.95      0.58       574\n",
      "\n",
      "    accuracy                           0.63      2113\n",
      "   macro avg       0.69      0.73      0.63      2113\n",
      "weighted avg       0.82      0.63      0.65      2113\n",
      "\n"
     ]
    }
   ],
   "source": [
    "predictions_catb_ = (predictions_catb > 0.95).astype(int)\n",
    "class_report_catb = classification_report(y_test, predictions_catb_)\n",
    "print(\"Classification Report:\")\n",
    "print(class_report_catb)"
   ]
  },
  {
   "cell_type": "code",
   "execution_count": 37,
   "metadata": {},
   "outputs": [
    {
     "name": "stdout",
     "output_type": "stream",
     "text": [
      "Cross-validation ROC AUC scores: [0.91463089 0.91232437 0.9068793  0.9055457  0.91417044]\n"
     ]
    }
   ],
   "source": [
    "cv_scores = cross_val_score(catb_classifier_1, X_train_log, y_train, cv=kfold, scoring='roc_auc')\n",
    "print(\"Cross-validation ROC AUC scores:\", cv_scores)"
   ]
  },
  {
   "cell_type": "code",
   "execution_count": 38,
   "metadata": {},
   "outputs": [
    {
     "data": {
      "text/plain": [
       "<AxesSubplot:xlabel='Importance', ylabel='Feature'>"
      ]
     },
     "execution_count": 38,
     "metadata": {},
     "output_type": "execute_result"
    },
    {
     "data": {
      "image/png": "[encoded data removed]",
      "text/plain": [
       "<Figure size 432x576 with 1 Axes>"
      ]
     },
     "metadata": {
      "needs_background": "light"
     },
     "output_type": "display_data"
    }
   ],
   "source": [
    "columns_pca = X_train.columns\n",
    "\n",
    "feature_importance = catb_classifier_1.feature_importances_\n",
    "feature_importance_df = pd.DataFrame({\n",
    "   'Feature': columns_pca,  \n",
    "    'Importance': feature_importance\n",
    "})\n",
    "\n",
    "feature_importance_df = feature_importance_df.sort_values(by='Importance', ascending=False)\n",
    "plt.figure(figsize=(6, 8))\n",
    "sns.barplot(y=feature_importance_df['Feature'],x=feature_importance_df['Importance'],data=feature_importance_df)"
   ]
  },
  {
   "cell_type": "code",
   "execution_count": 39,
   "metadata": {},
   "outputs": [
    {
     "name": "stdout",
     "output_type": "stream",
     "text": [
      "catb roc_auc:  0.9880058094649452\n"
     ]
    }
   ],
   "source": [
    "from sklearn.ensemble import HistGradientBoostingClassifier\n",
    "\n",
    "hist_params_1 = {'learning_rate': 0.07658122403991667, 'max_iter': 759, 'max_leaf_nodes': 42, 'max_depth': 16, \n",
    "                 'min_samples_leaf': 8, 'l2_regularization': 0.5547180338955557, 'max_bins': 151}\n",
    "hist_classifier_1 = HistGradientBoostingClassifier(**hist_params_1 , random_state=42,)\n",
    "hist_classifier_1.fit(X_train_log, y_train)\n",
    "predictions_hist = hist_classifier_1.predict_proba(X_test_log)[:,1]\n",
    "roc_auc = roc_auc_score(y_test,predictions_hist)\n",
    "print('catb roc_auc: ',roc_auc) "
   ]
  },
  {
   "cell_type": "code",
   "execution_count": 40,
   "metadata": {},
   "outputs": [
    {
     "name": "stdout",
     "output_type": "stream",
     "text": [
      "Cross-validation ROC AUC scores: [0.93322676 0.93111614 0.92673651 0.92729907 0.93480368]\n"
     ]
    }
   ],
   "source": [
    "cv_scores = cross_val_score(hist_classifier_1, X_train_log, y_train, cv=kfold, scoring='roc_auc')\n",
    "print(\"Cross-validation ROC AUC scores:\", cv_scores)"
   ]
  },
  {
   "cell_type": "code",
   "execution_count": 41,
   "metadata": {},
   "outputs": [
    {
     "name": "stdout",
     "output_type": "stream",
     "text": [
      "Classification Report:\n",
      "              precision    recall  f1-score   support\n",
      "\n",
      "           0       1.00      0.94      0.97      1539\n",
      "           1       0.87      0.99      0.93       574\n",
      "\n",
      "    accuracy                           0.96      2113\n",
      "   macro avg       0.93      0.97      0.95      2113\n",
      "weighted avg       0.96      0.96      0.96      2113\n",
      "\n"
     ]
    }
   ],
   "source": [
    "predictions_hist_ = (predictions_hist > 0.5).astype(int)\n",
    "class_report_hist = classification_report(y_test, predictions_hist_)\n",
    "print(\"Classification Report:\")\n",
    "print(class_report_hist)"
   ]
  },
  {
   "cell_type": "code",
   "execution_count": 42,
   "metadata": {},
   "outputs": [
    {
     "name": "stdout",
     "output_type": "stream",
     "text": [
      "roc_auc knn 0.8763994448632874\n"
     ]
    }
   ],
   "source": [
    "from sklearn.neighbors import KNeighborsClassifier\n",
    "\n",
    "knn = KNeighborsClassifier(\n",
    "    n_neighbors=8,\n",
    "    p=3\n",
    ")\n",
    "knn.fit(X_train_log, y_train)\n",
    "predictions_knn = knn.predict_proba(X_test_log)[:,1]\n",
    "roc_auc_knn = roc_auc_score(y_test,predictions_knn)\n",
    "print('roc_auc knn', roc_auc_knn)"
   ]
  },
  {
   "cell_type": "code",
   "execution_count": 43,
   "metadata": {},
   "outputs": [
    {
     "name": "stdout",
     "output_type": "stream",
     "text": [
      "Cross-validation ROC AUC scores: [0.89606277 0.89406983 0.88925792 0.89286737 0.90280906]\n"
     ]
    }
   ],
   "source": [
    "cv_scores = cross_val_score(knn, X_train_log, y_train, cv=kfold, scoring='roc_auc')\n",
    "print(\"Cross-validation ROC AUC scores:\", cv_scores)"
   ]
  },
  {
   "cell_type": "code",
   "execution_count": 44,
   "metadata": {},
   "outputs": [
    {
     "name": "stdout",
     "output_type": "stream",
     "text": [
      "Classification Report:\n",
      "              precision    recall  f1-score   support\n",
      "\n",
      "           0       0.91      0.80      0.85      1539\n",
      "           1       0.59      0.78      0.67       574\n",
      "\n",
      "    accuracy                           0.79      2113\n",
      "   macro avg       0.75      0.79      0.76      2113\n",
      "weighted avg       0.82      0.79      0.80      2113\n",
      "\n"
     ]
    }
   ],
   "source": [
    "predictions_knn_ = (predictions_knn > 0.6).astype(int)\n",
    "class_report_knn = classification_report(y_test, predictions_knn_)\n",
    "print(\"Classification Report:\")\n",
    "print(class_report_knn)"
   ]
  },
  {
   "cell_type": "code",
   "execution_count": 45,
   "metadata": {},
   "outputs": [
    {
     "name": "stdout",
     "output_type": "stream",
     "text": [
      "randomforest roc_auc:  0.9890998951760612\n"
     ]
    }
   ],
   "source": [
    "from sklearn.ensemble import RandomForestClassifier\n",
    "\n",
    "\n",
    "rf_params_1 = {'n_estimators': 53, 'max_depth': 30, 'min_samples_split': 2,\n",
    "               'min_samples_leaf': 1, 'max_features': 0.10243605101760357}\n",
    "\n",
    "rf_classifier_1 = RandomForestClassifier(**rf_params_1 , random_state=42,)\n",
    "rf_classifier_1.fit(X_train_log, y_train)\n",
    "predictions_rf = rf_classifier_1.predict_proba(X_test_log)[:,1]\n",
    "roc_auc = roc_auc_score(y_test,predictions_rf)\n",
    "print('randomforest roc_auc: ',roc_auc)"
   ]
  },
  {
   "cell_type": "code",
   "execution_count": 46,
   "metadata": {},
   "outputs": [
    {
     "name": "stdout",
     "output_type": "stream",
     "text": [
      "Cross-validation ROC AUC scores: [0.9304836  0.92627164 0.92376428 0.92140677 0.93268641]\n"
     ]
    }
   ],
   "source": [
    "cv_scores = cross_val_score(rf_classifier_1, X_train_log, y_train, cv=kfold, scoring='roc_auc')\n",
    "print(\"Cross-validation ROC AUC scores:\", cv_scores)"
   ]
  },
  {
   "cell_type": "code",
   "execution_count": 47,
   "metadata": {},
   "outputs": [
    {
     "name": "stdout",
     "output_type": "stream",
     "text": [
      "Classification Report:\n",
      "              precision    recall  f1-score   support\n",
      "\n",
      "           0       0.99      0.96      0.98      1539\n",
      "           1       0.91      0.98      0.94       574\n",
      "\n",
      "    accuracy                           0.97      2113\n",
      "   macro avg       0.95      0.97      0.96      2113\n",
      "weighted avg       0.97      0.97      0.97      2113\n",
      "\n"
     ]
    }
   ],
   "source": [
    "predictions_rf_ = (predictions_rf > 0.6).astype(int)\n",
    "class_report_rf = classification_report(y_test, predictions_rf_)\n",
    "print(\"Classification Report:\")\n",
    "print(class_report_rf)"
   ]
  },
  {
   "cell_type": "code",
   "execution_count": 48,
   "metadata": {},
   "outputs": [],
   "source": [
    "from sklearn.ensemble import VotingClassifier\n",
    "\n",
    "model1 = xgb_classifier_1\n",
    "model2 = lgbm_classifier_1\n",
    "model3 = logmodel\n",
    "model4 = hist_classifier_1\n",
    "model5 = rf_classifier_1\n",
    "model6 = knn\n",
    "model7 = catb_classifier_1\n",
    "\n",
    "ensemble_model = VotingClassifier(estimators=\n",
    "                                  [\n",
    "#                                               ('model1', model1),\n",
    "                                              ('model2', model2),\n",
    "#                                               ('model3', model3),\n",
    "                                              ('model4', model4),\n",
    "                                              ('model5', model5),\n",
    "#                                               ('model6', model6),\n",
    "#                                               (\"model7\", model7)\n",
    "                                             ], \n",
    "                                  \n",
    "                                  voting='soft')"
   ]
  },
  {
   "cell_type": "code",
   "execution_count": 49,
   "metadata": {},
   "outputs": [
    {
     "name": "stdout",
     "output_type": "stream",
     "text": [
      "Ensemble roc_auc:  0.9907101765253241\n"
     ]
    }
   ],
   "source": [
    "ensemble_model.fit(X_train_log,y_train)\n",
    "ensemble_predictions = ensemble_model.predict_proba(X_test_log)[:, 1]\n",
    "roc_auc = roc_auc_score(y_test,ensemble_predictions)\n",
    "print('Ensemble roc_auc: ',roc_auc) "
   ]
  },
  {
   "cell_type": "code",
   "execution_count": 50,
   "metadata": {},
   "outputs": [
    {
     "name": "stdout",
     "output_type": "stream",
     "text": [
      "Classification Report:\n",
      "\n",
      "              precision    recall  f1-score   support\n",
      "\n",
      "           0       0.99      0.97      0.98      1539\n",
      "           1       0.93      0.96      0.95       574\n",
      "\n",
      "    accuracy                           0.97      2113\n",
      "   macro avg       0.96      0.97      0.96      2113\n",
      "weighted avg       0.97      0.97      0.97      2113\n",
      "\n"
     ]
    }
   ],
   "source": [
    "ensemble_predictions_soft = (ensemble_predictions > 0.75).astype(int)\n",
    "ensemble_predictions_soft_class_report_ = classification_report(y_test, ensemble_predictions_soft)\n",
    "print(\"Classification Report:\\n\")\n",
    "print(ensemble_predictions_soft_class_report_)"
   ]
  },
  {
   "cell_type": "code",
   "execution_count": 51,
   "metadata": {},
   "outputs": [
    {
     "data": {
      "text/plain": [
       "['Churn_model.joblib']"
      ]
     },
     "execution_count": 51,
     "metadata": {},
     "output_type": "execute_result"
    }
   ],
   "source": [
    "from joblib import dump\n",
    "\n",
    "# Assuming your RFC model is named 'rfc_model'\n",
    "dump(ensemble_model, 'Churn_model.joblib')"
   ]
  },
  {
   "cell_type": "code",
   "execution_count": null,
   "metadata": {},
   "outputs": [],
   "source": []
  }
 ],
 "metadata": {
  "kernelspec": {
   "display_name": "base",
   "language": "python",
   "name": "python3"
  },
  "language_info": {
   "codemirror_mode": {
    "name": "ipython",
    "version": 3
   },
   "file_extension": ".py",
   "mimetype": "text/x-python",
   "name": "python",
   "nbconvert_exporter": "python",
   "pygments_lexer": "ipython3",
   "version": "3.9.7"
  }
 },
 "nbformat": 4,
 "nbformat_minor": 2
}
